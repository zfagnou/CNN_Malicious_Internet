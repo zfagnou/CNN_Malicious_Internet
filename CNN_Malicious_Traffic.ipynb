{
 "cells": [
  {
   "cell_type": "markdown",
   "metadata": {},
   "source": [
    "## Convolutional Neural Network for Malicious Traffic\n",
    "\n",
    "Written by Zachary Fagnou\n",
    "\n",
    "Trained on data extracted from Wireshark during normal activity, and while being attacked by various attack types. \n",
    "\n",
    "Used at a small scale in conjunciton with Open5gs.\n",
    "\n",
    "Training data has not been included as it is under NDA."
   ]
  },
  {
   "cell_type": "code",
   "execution_count": 1,
   "metadata": {},
   "outputs": [
    {
     "name": "stdout",
     "output_type": "stream",
     "text": [
      "Requirement already satisfied: numpy in /opt/anaconda3/envs/tensorflow/lib/python3.8/site-packages (1.22.3)\n",
      "Requirement already satisfied: matplotlib in /opt/anaconda3/envs/tensorflow/lib/python3.8/site-packages (3.7.5)\n",
      "Requirement already satisfied: contourpy>=1.0.1 in /opt/anaconda3/envs/tensorflow/lib/python3.8/site-packages (from matplotlib) (1.1.1)\n",
      "Requirement already satisfied: cycler>=0.10 in /opt/anaconda3/envs/tensorflow/lib/python3.8/site-packages (from matplotlib) (0.12.1)\n",
      "Requirement already satisfied: fonttools>=4.22.0 in /opt/anaconda3/envs/tensorflow/lib/python3.8/site-packages (from matplotlib) (4.53.0)\n",
      "Requirement already satisfied: kiwisolver>=1.0.1 in /opt/anaconda3/envs/tensorflow/lib/python3.8/site-packages (from matplotlib) (1.4.5)\n",
      "Requirement already satisfied: numpy<2,>=1.20 in /opt/anaconda3/envs/tensorflow/lib/python3.8/site-packages (from matplotlib) (1.22.3)\n",
      "Requirement already satisfied: packaging>=20.0 in /opt/anaconda3/envs/tensorflow/lib/python3.8/site-packages (from matplotlib) (24.0)\n",
      "Requirement already satisfied: pillow>=6.2.0 in /opt/anaconda3/envs/tensorflow/lib/python3.8/site-packages (from matplotlib) (10.3.0)\n",
      "Requirement already satisfied: pyparsing>=2.3.1 in /opt/anaconda3/envs/tensorflow/lib/python3.8/site-packages (from matplotlib) (3.1.2)\n",
      "Requirement already satisfied: python-dateutil>=2.7 in /opt/anaconda3/envs/tensorflow/lib/python3.8/site-packages (from matplotlib) (2.9.0.post0)\n",
      "Requirement already satisfied: importlib-resources>=3.2.0 in /opt/anaconda3/envs/tensorflow/lib/python3.8/site-packages (from matplotlib) (6.4.0)\n",
      "Requirement already satisfied: zipp>=3.1.0 in /opt/anaconda3/envs/tensorflow/lib/python3.8/site-packages (from importlib-resources>=3.2.0->matplotlib) (3.17.0)\n",
      "Requirement already satisfied: six>=1.5 in /opt/anaconda3/envs/tensorflow/lib/python3.8/site-packages (from python-dateutil>=2.7->matplotlib) (1.15.0)\n",
      "Requirement already satisfied: pandas in /opt/anaconda3/envs/tensorflow/lib/python3.8/site-packages (2.0.3)\n",
      "Requirement already satisfied: python-dateutil>=2.8.2 in /opt/anaconda3/envs/tensorflow/lib/python3.8/site-packages (from pandas) (2.9.0.post0)\n",
      "Requirement already satisfied: pytz>=2020.1 in /opt/anaconda3/envs/tensorflow/lib/python3.8/site-packages (from pandas) (2024.1)\n",
      "Requirement already satisfied: tzdata>=2022.1 in /opt/anaconda3/envs/tensorflow/lib/python3.8/site-packages (from pandas) (2024.1)\n",
      "Requirement already satisfied: numpy>=1.20.3 in /opt/anaconda3/envs/tensorflow/lib/python3.8/site-packages (from pandas) (1.22.3)\n",
      "Requirement already satisfied: six>=1.5 in /opt/anaconda3/envs/tensorflow/lib/python3.8/site-packages (from python-dateutil>=2.8.2->pandas) (1.15.0)\n",
      "Requirement already satisfied: scikit-learn in /opt/anaconda3/envs/tensorflow/lib/python3.8/site-packages (1.3.2)\n",
      "Requirement already satisfied: numpy<2.0,>=1.17.3 in /opt/anaconda3/envs/tensorflow/lib/python3.8/site-packages (from scikit-learn) (1.22.3)\n",
      "Requirement already satisfied: scipy>=1.5.0 in /opt/anaconda3/envs/tensorflow/lib/python3.8/site-packages (from scikit-learn) (1.10.1)\n",
      "Requirement already satisfied: joblib>=1.1.1 in /opt/anaconda3/envs/tensorflow/lib/python3.8/site-packages (from scikit-learn) (1.4.2)\n",
      "Requirement already satisfied: threadpoolctl>=2.0.0 in /opt/anaconda3/envs/tensorflow/lib/python3.8/site-packages (from scikit-learn) (3.5.0)\n"
     ]
    }
   ],
   "source": [
    "!pip install numpy\n",
    "!pip install matplotlib\n",
    "!pip install pandas\n",
    "!pip install scikit-learn"
   ]
  },
  {
   "cell_type": "code",
   "execution_count": 2,
   "metadata": {},
   "outputs": [
    {
     "name": "stdout",
     "output_type": "stream",
     "text": [
      "Requirement already satisfied: tensorflow-metal in /opt/anaconda3/envs/tensorflow/lib/python3.8/site-packages (0.5.0)\n",
      "Requirement already satisfied: wheel~=0.35 in /opt/anaconda3/envs/tensorflow/lib/python3.8/site-packages (from tensorflow-metal) (0.43.0)\n",
      "Requirement already satisfied: six~=1.15.0 in /opt/anaconda3/envs/tensorflow/lib/python3.8/site-packages (from tensorflow-metal) (1.15.0)\n"
     ]
    }
   ],
   "source": [
    "!pip install tensorflow-metal"
   ]
  },
  {
   "cell_type": "code",
   "execution_count": 3,
   "metadata": {},
   "outputs": [],
   "source": [
    "import numpy as np\n",
    "import matplotlib.pyplot as plt\n",
    "import pandas as pd\n",
    "import tensorflow as tf\n",
    "import re\n",
    "from tensorflow.keras.callbacks import EarlyStopping"
   ]
  },
  {
   "cell_type": "markdown",
   "metadata": {},
   "source": [
    "# Extra Functions"
   ]
  },
  {
   "cell_type": "code",
   "execution_count": 4,
   "metadata": {},
   "outputs": [
    {
     "data": {
      "text/plain": [
       "{'Standard Query': 0,\n",
       " 'Name Query': 0,\n",
       " 'TCP Transmission': 0,\n",
       " 'Application Data': 0,\n",
       " 'Seq': '1',\n",
       " 'Ack': '1',\n",
       " 'Win': '8',\n",
       " 'Len': '1134',\n",
       " 'TSval': '4226585851',\n",
       " 'TSecr': '1528951308',\n",
       " 'Source_Port': 443,\n",
       " 'Destination_Port': 57564,\n",
       " 'TCP Dup ACK': 0,\n",
       " 'Who Has': 0}"
      ]
     },
     "execution_count": 4,
     "metadata": {},
     "output_type": "execute_result"
    }
   ],
   "source": [
    "def extract_values(text):\n",
    "    \n",
    "    parts = text.split('=')\n",
    "    \n",
    "    results = {'Standard Query' : 0,\n",
    "                'Name Query' : 0,\n",
    "                'TCP Transmission' : 0,\n",
    "                'Application Data' : 0,\n",
    "                'Seq' : 0,\n",
    "                'Ack' : 0,\n",
    "                'Win' : 0,\n",
    "                'Len' : 0,\n",
    "                'TSval' : 0,\n",
    "                'TSecr' : 0,\n",
    "                'Source_Port' : 0,\n",
    "                'Destination_Port' : 0,\n",
    "                'TCP Dup ACK' : 0,\n",
    "                'Who Has' : 0,\n",
    "                }\n",
    "    # Check for Who has in the text\n",
    "    if 'Who has' in text:\n",
    "        results['Who has'] = 1\n",
    "        \n",
    "    # Check for TCP Dup ACK in the text\n",
    "    if 'TCP Dup ACK' in text:\n",
    "        results['TCP Dup ACK'] = 1\n",
    "    \n",
    "    # Check for Standard Query in the text\n",
    "    if 'Standard Query' in text:\n",
    "        results['Standard Query'] = 1\n",
    "    \n",
    "    # Check for Name Query in the text\n",
    "    if 'Name query' in text:\n",
    "        results['Name Query'] = 1\n",
    "    \n",
    "    # Check for [TCP Retransmission] in the text\n",
    "    if '[TCP Retransmission]' in text:\n",
    "        results['TCP Retransmission'] = 1\n",
    "    \n",
    "    # Check for Application Data in the text\n",
    "    if 'Application Data' in text:\n",
    "        results['Application Data'] = 1\n",
    "    \n",
    "    \n",
    "    for i in range(len(parts) - 1):\n",
    "        # Get the segment before '=' and split by space, then take the last part\n",
    "        before = parts[i].rsplit(' ', 1)[-1]\n",
    "        \n",
    "        # Get the segment after '=' and split by space, then take the first part\n",
    "        after = parts[i + 1].split(' ', 1)[0]\n",
    "        \n",
    "        results[before] = after\n",
    "        \n",
    "    # Find all matches for 'number > number' pattern\n",
    "    pattern = re.compile(r'(\\d+)\\s*>\\s*(\\d+)')\n",
    "    matches = pattern.findall(text)\n",
    "    \n",
    "    for match in matches:\n",
    "        source_port = int(match[0])\n",
    "        destination_port = int(match[1])\n",
    "        results['Source_Port'] = source_port\n",
    "        results['Destination_Port'] = destination_port\n",
    "    \n",
    "    \n",
    "    return results\n",
    "\n",
    "\n",
    "test = '443  >  57564 [ACK] Seq=1 Ack=1 Win=8 Len=1134 TSval=4226585851 TSecr=1528951308 [TCP segment of a reassembled PDU]'\n",
    "extract_values(test)"
   ]
  },
  {
   "cell_type": "markdown",
   "metadata": {},
   "source": [
    "# Cleaning"
   ]
  },
  {
   "cell_type": "code",
   "execution_count": 5,
   "metadata": {},
   "outputs": [],
   "source": [
    "def clean_data(X):\n",
    "    # Remove all rows with \"Broadcast\" in them\n",
    "    X = X[~(X == \"Broadcast\").any(axis=1)]\n",
    "\n",
    "    # Remove all IPV6 Rows\n",
    "    mask_source = X[\"Source\"].apply(lambda x: ':' in str(x))\n",
    "    mask_dest = X[\"Destination\"].apply(lambda x: ':' in str(x))\n",
    "    mask = mask_source | mask_dest\n",
    "\n",
    "    X = X[~mask]\n",
    "    \n",
    "    print(\"----------\")\n",
    "\n",
    "    # Separates Source to more easily modify\n",
    "    X_source = X.iloc[0:,2].values\n",
    "\n",
    "    X_source = X_source.tolist()\n",
    "    n = len(X_source)\n",
    "    \n",
    "    print(\">---------\")\n",
    "    \n",
    "    X_source_div = [0]*n\n",
    "    X_source_IP = [0]*n\n",
    "    \n",
    "    print(\">>--------\")\n",
    "\n",
    "    # Removes all but device of source\n",
    "    for i in range(n):\n",
    "        \n",
    "        X_source[i] = X_source[i].split(\".\")\n",
    "        X_source_div[i] = X_source[i][2]\n",
    "        \n",
    "        X_source_IP[i] = X_source[i][0:2]\n",
    "        X_source_IP[i] = \"\".join(X_source_IP[i])\n",
    "\n",
    "    print(\">>>-------\")\n",
    "    \n",
    "    X[\"Source Device\"] = X_source_div\n",
    "    X[\"Source IP\"] = X_source_IP\n",
    "    \n",
    "    print(\">>>>------\")\n",
    "\n",
    "    # Separates Destination to more easily modify\n",
    "    X_dest = X.iloc[0:,3].values\n",
    "\n",
    "    X_dest = X_dest.tolist()\n",
    "    n = len(X_dest)\n",
    "    \n",
    "    print(\">>>>>-----\")\n",
    "\n",
    "    X_dest_div = [0]*n\n",
    "    X_dest_IP = [0]*n\n",
    "\n",
    "    # Removes all but device of destination\n",
    "    for i in range(n):\n",
    "        \n",
    "        X_dest[i] = X_dest[i].split(\".\")\n",
    "        X_dest_div[i] = X_dest[i][3]\n",
    "        \n",
    "        X_dest_IP[i] = X_dest[i][0:3]\n",
    "        X_dest_IP[i] = \"\".join(X_dest_IP[i])\n",
    "        \n",
    "    print(\">>>>>>----\")\n",
    "\n",
    "    X[\"Destination Device\"] = X_dest_div\n",
    "    X[\"Destination IP\"] = X_dest_IP\n",
    "    \n",
    "    print(\">>>>>>>---\")\n",
    "\n",
    "    X.drop(X.columns[3], axis=1, inplace=True)\n",
    "    X.drop(X.columns[2], axis=1, inplace=True)\n",
    "    \n",
    "    print(\">>>>>>>>--\")\n",
    "    \n",
    "    # Cleaning Info Column :`(\n",
    "\n",
    "    X_info = X.iloc[0:,4].values\n",
    "    X_info = X_info.tolist()\n",
    "    n = len(X_info)\n",
    "\n",
    "    print(\">>>>>>>>>-\")\n",
    "    for i in range(n):\n",
    "        dictionary = extract_values(X_info[i])\n",
    "        info = [i, [[key, value] for key, value in dictionary.items()]]\n",
    "        \n",
    "        X['Standard Query'] = info[1][0][1]\n",
    "        X['Name Query'] = info[1][1][1]\n",
    "        X['TCP Transmission'] = info[1][2][1]\n",
    "        X['Application Data'] = info[1][3][1]\n",
    "        X['Seq'] = info[1][4][1]\n",
    "        X['Ack'] = info[1][5][1]\n",
    "        X['Win'] = info[1][6][1]\n",
    "        X['Len'] = info[1][7][1]\n",
    "        X['TSval'] = info[1][8][1]\n",
    "        X['TSecr'] = info[1][9][1]\n",
    "        X['Source_Port'] = info[1][10][1]\n",
    "        X['Destination_Port'] = info[1][11][1]\n",
    "        X['TCP Dup ACK'] = info[1][12][1]\n",
    "        X['Who Has'] = info[1][13][1]\n",
    "\n",
    "    print(\">>>>>>>>>>\")\n",
    "    X.drop(['Info'], axis=1, inplace=True)\n",
    "    X.drop(['No.'], axis=1, inplace=True)\n",
    "    X.drop(['Time'], axis=1, inplace=True)\n",
    "    \n",
    "    # Used for testing categories\n",
    "    \n",
    "    # X.drop(['Source IP'], axis=1, inplace=True)\n",
    "    # X.drop(['Destination IP'], axis=1, inplace=True)\n",
    "    # X.drop(['Source Device'], axis=1, inplace=True)\n",
    "    # X.drop(['Destination Device'], axis=1, inplace=True)\n",
    "    # X.drop(['Source_Port'], axis=1, inplace=True)\n",
    "    # X.drop(['Destination_Port'], axis=1, inplace=True)\n",
    "    # X.drop(['Seq'], axis=1, inplace=True)\n",
    "    # X.drop(['Ack'], axis=1, inplace=True)\n",
    "    # X.drop(['Win'], axis=1, inplace=True)\n",
    "    # X.drop(['Len'], axis=1, inplace=True)\n",
    "    # X.drop(['TSval'], axis=1, inplace=True)\n",
    "    # X.drop(['TSecr'], axis=1, inplace=True)\n",
    "    # X.drop(['TCP Dup ACK'], axis=1, inplace=True)\n",
    "    # X.drop(['Who Has'], axis=1, inplace=True)\n",
    "    # X.drop(['Standard Query'], axis=1, inplace=True)\n",
    "    # X.drop(['Name Query'], axis=1, inplace=True)\n",
    "    # X.drop(['TCP Transmission'], axis=1, inplace=True)\n",
    "    # X.drop(['Application Data'], axis=1, inplace=True)\n",
    "\n",
    "    return X\n",
    "\n",
    "        \n"
   ]
  },
  {
   "cell_type": "code",
   "execution_count": 6,
   "metadata": {},
   "outputs": [
    {
     "name": "stdout",
     "output_type": "stream",
     "text": [
      "----------\n",
      ">---------\n",
      ">>--------\n",
      ">>>-------\n",
      ">>>>------\n",
      ">>>>>-----\n",
      ">>>>>>----\n",
      ">>>>>>>---\n",
      ">>>>>>>>--\n",
      ">>>>>>>>>-\n",
      ">>>>>>>>>>\n"
     ]
    },
    {
     "data": {
      "text/html": [
       "<div>\n",
       "<style scoped>\n",
       "    .dataframe tbody tr th:only-of-type {\n",
       "        vertical-align: middle;\n",
       "    }\n",
       "\n",
       "    .dataframe tbody tr th {\n",
       "        vertical-align: top;\n",
       "    }\n",
       "\n",
       "    .dataframe thead th {\n",
       "        text-align: right;\n",
       "    }\n",
       "</style>\n",
       "<table border=\"1\" class=\"dataframe\">\n",
       "  <thead>\n",
       "    <tr style=\"text-align: right;\">\n",
       "      <th></th>\n",
       "      <th>Protocol</th>\n",
       "      <th>Length</th>\n",
       "      <th>Source Device</th>\n",
       "      <th>Source IP</th>\n",
       "      <th>Destination Device</th>\n",
       "      <th>Destination IP</th>\n",
       "      <th>Standard Query</th>\n",
       "      <th>Name Query</th>\n",
       "      <th>TCP Transmission</th>\n",
       "      <th>Application Data</th>\n",
       "      <th>Seq</th>\n",
       "      <th>Ack</th>\n",
       "      <th>Win</th>\n",
       "      <th>Len</th>\n",
       "      <th>TSval</th>\n",
       "      <th>TSecr</th>\n",
       "      <th>Source_Port</th>\n",
       "      <th>Destination_Port</th>\n",
       "      <th>TCP Dup ACK</th>\n",
       "      <th>Who Has</th>\n",
       "    </tr>\n",
       "  </thead>\n",
       "  <tbody>\n",
       "    <tr>\n",
       "      <th>0</th>\n",
       "      <td>TCP</td>\n",
       "      <td>60</td>\n",
       "      <td>243</td>\n",
       "      <td>34107</td>\n",
       "      <td>5</td>\n",
       "      <td>1002</td>\n",
       "      <td>0</td>\n",
       "      <td>0</td>\n",
       "      <td>0</td>\n",
       "      <td>0</td>\n",
       "      <td>0</td>\n",
       "      <td>0</td>\n",
       "      <td>64240</td>\n",
       "      <td>0</td>\n",
       "      <td>885268306</td>\n",
       "      <td>0</td>\n",
       "      <td>58560</td>\n",
       "      <td>80</td>\n",
       "      <td>0</td>\n",
       "      <td>0</td>\n",
       "    </tr>\n",
       "    <tr>\n",
       "      <th>1</th>\n",
       "      <td>TCP</td>\n",
       "      <td>54</td>\n",
       "      <td>2</td>\n",
       "      <td>100</td>\n",
       "      <td>108</td>\n",
       "      <td>192229211</td>\n",
       "      <td>0</td>\n",
       "      <td>0</td>\n",
       "      <td>0</td>\n",
       "      <td>0</td>\n",
       "      <td>0</td>\n",
       "      <td>0</td>\n",
       "      <td>64240</td>\n",
       "      <td>0</td>\n",
       "      <td>885268306</td>\n",
       "      <td>0</td>\n",
       "      <td>58560</td>\n",
       "      <td>80</td>\n",
       "      <td>0</td>\n",
       "      <td>0</td>\n",
       "    </tr>\n",
       "    <tr>\n",
       "      <th>2</th>\n",
       "      <td>TCP</td>\n",
       "      <td>54</td>\n",
       "      <td>2</td>\n",
       "      <td>100</td>\n",
       "      <td>108</td>\n",
       "      <td>192229211</td>\n",
       "      <td>0</td>\n",
       "      <td>0</td>\n",
       "      <td>0</td>\n",
       "      <td>0</td>\n",
       "      <td>0</td>\n",
       "      <td>0</td>\n",
       "      <td>64240</td>\n",
       "      <td>0</td>\n",
       "      <td>885268306</td>\n",
       "      <td>0</td>\n",
       "      <td>58560</td>\n",
       "      <td>80</td>\n",
       "      <td>0</td>\n",
       "      <td>0</td>\n",
       "    </tr>\n",
       "    <tr>\n",
       "      <th>3</th>\n",
       "      <td>TCP</td>\n",
       "      <td>54</td>\n",
       "      <td>2</td>\n",
       "      <td>100</td>\n",
       "      <td>108</td>\n",
       "      <td>192229211</td>\n",
       "      <td>0</td>\n",
       "      <td>0</td>\n",
       "      <td>0</td>\n",
       "      <td>0</td>\n",
       "      <td>0</td>\n",
       "      <td>0</td>\n",
       "      <td>64240</td>\n",
       "      <td>0</td>\n",
       "      <td>885268306</td>\n",
       "      <td>0</td>\n",
       "      <td>58560</td>\n",
       "      <td>80</td>\n",
       "      <td>0</td>\n",
       "      <td>0</td>\n",
       "    </tr>\n",
       "    <tr>\n",
       "      <th>4</th>\n",
       "      <td>TCP</td>\n",
       "      <td>60</td>\n",
       "      <td>211</td>\n",
       "      <td>192229</td>\n",
       "      <td>5</td>\n",
       "      <td>1002</td>\n",
       "      <td>0</td>\n",
       "      <td>0</td>\n",
       "      <td>0</td>\n",
       "      <td>0</td>\n",
       "      <td>0</td>\n",
       "      <td>0</td>\n",
       "      <td>64240</td>\n",
       "      <td>0</td>\n",
       "      <td>885268306</td>\n",
       "      <td>0</td>\n",
       "      <td>58560</td>\n",
       "      <td>80</td>\n",
       "      <td>0</td>\n",
       "      <td>0</td>\n",
       "    </tr>\n",
       "  </tbody>\n",
       "</table>\n",
       "</div>"
      ],
      "text/plain": [
       "  Protocol  Length Source Device Source IP Destination Device Destination IP  \\\n",
       "0      TCP      60           243     34107                  5           1002   \n",
       "1      TCP      54             2       100                108      192229211   \n",
       "2      TCP      54             2       100                108      192229211   \n",
       "3      TCP      54             2       100                108      192229211   \n",
       "4      TCP      60           211    192229                  5           1002   \n",
       "\n",
       "   Standard Query  Name Query  TCP Transmission  Application Data Seq  Ack  \\\n",
       "0               0           0                 0                 0   0    0   \n",
       "1               0           0                 0                 0   0    0   \n",
       "2               0           0                 0                 0   0    0   \n",
       "3               0           0                 0                 0   0    0   \n",
       "4               0           0                 0                 0   0    0   \n",
       "\n",
       "     Win Len      TSval TSecr  Source_Port  Destination_Port  TCP Dup ACK  \\\n",
       "0  64240   0  885268306     0        58560                80            0   \n",
       "1  64240   0  885268306     0        58560                80            0   \n",
       "2  64240   0  885268306     0        58560                80            0   \n",
       "3  64240   0  885268306     0        58560                80            0   \n",
       "4  64240   0  885268306     0        58560                80            0   \n",
       "\n",
       "   Who Has  \n",
       "0        0  \n",
       "1        0  \n",
       "2        0  \n",
       "3        0  \n",
       "4        0  "
      ]
     },
     "execution_count": 6,
     "metadata": {},
     "output_type": "execute_result"
    }
   ],
   "source": [
    "X3 = pd.read_csv('training_data/sctp_attack.csv', encoding='utf-8', low_memory=False)\n",
    "X3 = clean_data(X3)\n",
    "X3.head()"
   ]
  },
  {
   "cell_type": "code",
   "execution_count": 7,
   "metadata": {},
   "outputs": [
    {
     "name": "stdout",
     "output_type": "stream",
     "text": [
      "Beginning Cleaning Normal Data\n",
      "----------\n",
      ">---------\n",
      ">>--------\n",
      ">>>-------\n",
      ">>>>------\n",
      ">>>>>-----\n",
      ">>>>>>----\n",
      ">>>>>>>---\n",
      ">>>>>>>>--\n",
      ">>>>>>>>>-\n",
      ">>>>>>>>>>\n",
      "Finished Cleaning Normal Data\n",
      "Beginning Cleaning DOS Attack Data\n",
      "----------\n",
      ">---------\n",
      ">>--------\n",
      ">>>-------\n",
      ">>>>------\n",
      ">>>>>-----\n",
      ">>>>>>----\n",
      ">>>>>>>---\n",
      ">>>>>>>>--\n",
      ">>>>>>>>>-\n",
      ">>>>>>>>>>\n",
      "Finished Cleaning DOS Attack Data\n",
      "Beginning Cleaning amf-GW Data\n",
      "----------\n",
      ">---------\n",
      ">>--------\n",
      ">>>-------\n",
      ">>>>------\n",
      ">>>>>-----\n",
      ">>>>>>----\n",
      ">>>>>>>---\n",
      ">>>>>>>>--\n",
      ">>>>>>>>>-\n",
      ">>>>>>>>>>\n",
      "Finished Cleaning amf-GW Data\n",
      "Beginning Cleaning SCTP Attack Data\n",
      "----------\n",
      ">---------\n",
      ">>--------\n",
      ">>>-------\n",
      ">>>>------\n",
      ">>>>>-----\n",
      ">>>>>>----\n",
      ">>>>>>>---\n",
      ">>>>>>>>--\n",
      ">>>>>>>>>-\n",
      ">>>>>>>>>>\n",
      "Finished Cleaning SCTP Attack Data\n",
      "Constructing y values\n",
      "Finished Constructing y values\n"
     ]
    }
   ],
   "source": [
    "# Cleaning and concatonating training data\n",
    "\n",
    "X0 = pd.read_csv('training_data/NormalData.csv', encoding='utf-8', low_memory=False)\n",
    "\n",
    "X1 = pd.read_csv('training_data/DOSATTACK.csv', encoding='utf-8', low_memory=False)\n",
    "\n",
    "X2 = pd.read_csv('training_data/amf-GW.csv', encoding='utf-8', low_memory=False)\n",
    "\n",
    "X3 = pd.read_csv('training_data/sctp_attack.csv', encoding='utf-8', low_memory=False)\n",
    "\n",
    "X1 = X1.drop([i for i in range(50000, len(X1))])\n",
    "X2 = X2.drop([i for i in range(50000, len(X2))])\n",
    "\n",
    "print(\"Beginning Cleaning Normal Data\")\n",
    "X0 = clean_data(X0)\n",
    "print(\"Finished Cleaning Normal Data\")\n",
    "\n",
    "print(\"Beginning Cleaning DOS Attack Data\")\n",
    "X1 = clean_data(X1)\n",
    "print(\"Finished Cleaning DOS Attack Data\")\n",
    "\n",
    "print(\"Beginning Cleaning amf-GW Data\")\n",
    "X2 = clean_data(X2)\n",
    "print(\"Finished Cleaning amf-GW Data\")\n",
    "\n",
    "print(\"Beginning Cleaning SCTP Attack Data\")\n",
    "X3 = clean_data(X3)\n",
    "print(\"Finished Cleaning SCTP Attack Data\")\n",
    "\n",
    "\n",
    "X = pd.concat([X0, X1, X2, X3])\n",
    "\n",
    "X.to_numpy()\n",
    "\n",
    "print(\"Constructing y values\")\n",
    "y = []\n",
    "for i in range(len(X0)):\n",
    "    y.append(0)\n",
    "for i in range(len(X1)):\n",
    "    y.append(1)\n",
    "for i in range(len(X2)):\n",
    "    y.append(1)\n",
    "for i in range(len(X3)):\n",
    "    y.append(1)\n",
    "print(\"Finished Constructing y values\")\n",
    "\n",
    "y = np.array(y)\n",
    "\n",
    "# Saves training data to numpy files\n",
    "np.save('X.npy', X)\n",
    "np.save('y.npy', y)\n"
   ]
  },
  {
   "cell_type": "markdown",
   "metadata": {},
   "source": [
    "# Feature Scaling"
   ]
  },
  {
   "cell_type": "code",
   "execution_count": 8,
   "metadata": {},
   "outputs": [],
   "source": [
    "X = np.load('X.npy', allow_pickle=True)\n",
    "y = np.load('y.npy', allow_pickle=True)"
   ]
  },
  {
   "cell_type": "code",
   "execution_count": 9,
   "metadata": {},
   "outputs": [],
   "source": [
    "from sklearn.model_selection import train_test_split\n",
    "\n",
    "X_train, X_test, y_train, y_test = train_test_split(X, y, test_size=0.2, random_state=0)"
   ]
  },
  {
   "cell_type": "code",
   "execution_count": 10,
   "metadata": {},
   "outputs": [
    {
     "data": {
      "text/plain": [
       "array(['UDP', 'SCTP', 'UDP', ..., 'PFCP', 'TCP', 'SCTP'], dtype=object)"
      ]
     },
     "execution_count": 10,
     "metadata": {},
     "output_type": "execute_result"
    }
   ],
   "source": [
    "X_train[0:, 0]"
   ]
  },
  {
   "cell_type": "code",
   "execution_count": 11,
   "metadata": {},
   "outputs": [],
   "source": [
    "# Label Encodes Protocol Types and saves the encoder\n",
    "from sklearn.preprocessing import LabelEncoder\n",
    "le = LabelEncoder()\n",
    "\n",
    "X_train[0:,0] = le.fit_transform(X_train[0:,0])\n",
    "X_test[0:,0] = le.fit_transform(X_test[0:,0])\n",
    "\n",
    "np.save('LabelEncoder.npy', le.classes_)"
   ]
  },
  {
   "cell_type": "code",
   "execution_count": 12,
   "metadata": {},
   "outputs": [],
   "source": [
    "# Scales remaining data\n",
    "from sklearn.preprocessing import StandardScaler\n",
    "sc = StandardScaler()\n",
    "\n",
    "X_train = sc.fit_transform(X_train)\n",
    "X_test = sc.fit_transform(X_test)\n"
   ]
  },
  {
   "cell_type": "code",
   "execution_count": 13,
   "metadata": {},
   "outputs": [],
   "source": [
    "X_train = np.asarray(X_train).astype(np.float32)\n",
    "y_train = np.asarray(y_train).astype(np.float32)\n",
    "\n",
    "X_test = np.asarray(X_test).astype(np.float32)\n",
    "y_test = np.asarray(y_test).astype(np.float32)"
   ]
  },
  {
   "cell_type": "markdown",
   "metadata": {},
   "source": [
    "# CNN Model"
   ]
  },
  {
   "cell_type": "code",
   "execution_count": 14,
   "metadata": {},
   "outputs": [
    {
     "data": {
      "text/plain": [
       "(102656, 20)"
      ]
     },
     "execution_count": 14,
     "metadata": {},
     "output_type": "execute_result"
    }
   ],
   "source": [
    "X_train.shape"
   ]
  },
  {
   "cell_type": "code",
   "execution_count": 15,
   "metadata": {},
   "outputs": [
    {
     "data": {
      "text/plain": [
       "'2.9.0'"
      ]
     },
     "execution_count": 15,
     "metadata": {},
     "output_type": "execute_result"
    }
   ],
   "source": [
    "tf.__version__"
   ]
  },
  {
   "cell_type": "code",
   "execution_count": 17,
   "metadata": {},
   "outputs": [
    {
     "name": "stdout",
     "output_type": "stream",
     "text": [
      "Epoch 1/10\n"
     ]
    },
    {
     "name": "stderr",
     "output_type": "stream",
     "text": [
      "2024-06-06 12:16:05.869502: I tensorflow/core/grappler/optimizers/custom_graph_optimizer_registry.cc:113] Plugin optimizer for device_type GPU is enabled.\n"
     ]
    },
    {
     "name": "stdout",
     "output_type": "stream",
     "text": [
      "3198/3208 [============================>.] - ETA: 0s - loss: 0.0062 - accuracy: 0.9986"
     ]
    },
    {
     "name": "stderr",
     "output_type": "stream",
     "text": [
      "2024-06-06 12:16:18.491249: I tensorflow/core/grappler/optimizers/custom_graph_optimizer_registry.cc:113] Plugin optimizer for device_type GPU is enabled.\n"
     ]
    },
    {
     "name": "stdout",
     "output_type": "stream",
     "text": [
      "3208/3208 [==============================] - 14s 4ms/step - loss: 0.0062 - accuracy: 0.9986 - val_loss: 3.0523e-06 - val_accuracy: 1.0000\n",
      "Epoch 2/10\n",
      "3208/3208 [==============================] - 14s 4ms/step - loss: 1.2538e-06 - accuracy: 1.0000 - val_loss: 3.2409e-07 - val_accuracy: 1.0000\n",
      "Epoch 3/10\n",
      "3208/3208 [==============================] - 14s 4ms/step - loss: 1.6019e-07 - accuracy: 1.0000 - val_loss: 4.3445e-08 - val_accuracy: 1.0000\n",
      "Epoch 4/10\n",
      "3208/3208 [==============================] - 14s 4ms/step - loss: 1.8488e-08 - accuracy: 1.0000 - val_loss: 4.0040e-09 - val_accuracy: 1.0000\n",
      "Epoch 5/10\n",
      "3208/3208 [==============================] - 14s 4ms/step - loss: 1.9997e-09 - accuracy: 1.0000 - val_loss: 4.0411e-10 - val_accuracy: 1.0000\n",
      "Epoch 6/10\n",
      "3208/3208 [==============================] - 13s 4ms/step - loss: 3.9947e-10 - accuracy: 1.0000 - val_loss: 1.0219e-10 - val_accuracy: 1.0000\n",
      "Epoch 7/10\n",
      "3208/3208 [==============================] - 13s 4ms/step - loss: 1.0916e-10 - accuracy: 1.0000 - val_loss: 3.2515e-11 - val_accuracy: 1.0000\n",
      "Epoch 8/10\n",
      "3208/3208 [==============================] - 13s 4ms/step - loss: 3.8321e-11 - accuracy: 1.0000 - val_loss: 1.3935e-11 - val_accuracy: 1.0000\n",
      "Epoch 9/10\n",
      "3208/3208 [==============================] - 13s 4ms/step - loss: 1.7419e-11 - accuracy: 1.0000 - val_loss: 0.0000e+00 - val_accuracy: 1.0000\n",
      "Epoch 10/10\n",
      "3208/3208 [==============================] - 13s 4ms/step - loss: 3.4837e-12 - accuracy: 1.0000 - val_loss: 0.0000e+00 - val_accuracy: 1.0000\n",
      "Model: \"sequential_1\"\n",
      "_________________________________________________________________\n",
      " Layer (type)                Output Shape              Param #   \n",
      "=================================================================\n",
      " conv2d_2 (Conv2D)           (None, 18, 1, 32)         128       \n",
      "                                                                 \n",
      " average_pooling2d_2 (Averag  (None, 9, 1, 32)         0         \n",
      " ePooling2D)                                                     \n",
      "                                                                 \n",
      " conv2d_3 (Conv2D)           (None, 7, 1, 64)          6208      \n",
      "                                                                 \n",
      " average_pooling2d_3 (Averag  (None, 3, 1, 64)         0         \n",
      " ePooling2D)                                                     \n",
      "                                                                 \n",
      " flatten_1 (Flatten)         (None, 192)               0         \n",
      "                                                                 \n",
      " dense_2 (Dense)             (None, 128)               24704     \n",
      "                                                                 \n",
      " dense_3 (Dense)             (None, 1)                 129       \n",
      "                                                                 \n",
      "=================================================================\n",
      "Total params: 31,169\n",
      "Trainable params: 31,169\n",
      "Non-trainable params: 0\n",
      "_________________________________________________________________\n"
     ]
    }
   ],
   "source": [
    "# Reshape the training and test datasets\n",
    "X_train_reshaped = np.expand_dims(np.expand_dims(X_train, axis=-1), axis=-1)\n",
    "X_test_reshaped = np.expand_dims(np.expand_dims(X_test, axis=-1), axis=-1)\n",
    "\n",
    "# Early stopping callback\n",
    "early_stopping = EarlyStopping(monitor='val_loss', patience=5, restore_best_weights=True)\n",
    "\n",
    "def create_model_1():\n",
    "    model = tf.keras.models.Sequential([\n",
    "        tf.keras.layers.Input(shape=[20, 1, 1]),\n",
    "        tf.keras.layers.Conv2D(filters=8, kernel_size=(3, 1), activation='relu'),\n",
    "        tf.keras.layers.AveragePooling2D(pool_size=(2, 1)),\n",
    "        tf.keras.layers.Conv2D(filters=16, kernel_size=(3, 1), activation='relu'),\n",
    "        tf.keras.layers.AveragePooling2D(pool_size=(2, 1)),\n",
    "        tf.keras.layers.Flatten(),\n",
    "        tf.keras.layers.Dense(units=32, activation='relu'),\n",
    "        tf.keras.layers.Dense(units=1, activation='sigmoid')\n",
    "    ])\n",
    "    model.compile(optimizer='adam', loss='binary_crossentropy', metrics=['accuracy'])\n",
    "    return model\n",
    "\n",
    "def create_model_2():\n",
    "    model = tf.keras.models.Sequential([\n",
    "        tf.keras.layers.Input(shape=[20, 1, 1]),\n",
    "        tf.keras.layers.Conv2D(filters=16, kernel_size=(3, 1), activation='relu'),\n",
    "        tf.keras.layers.AveragePooling2D(pool_size=(2, 1)),\n",
    "        tf.keras.layers.Conv2D(filters=32, kernel_size=(3, 1), activation='relu'),\n",
    "        tf.keras.layers.AveragePooling2D(pool_size=(2, 1)),\n",
    "        tf.keras.layers.Flatten(),\n",
    "        tf.keras.layers.Dense(units=64, activation='relu'),\n",
    "        tf.keras.layers.Dense(units=1, activation='sigmoid')\n",
    "    ])\n",
    "    model.compile(optimizer='adam', loss='binary_crossentropy', metrics=['accuracy'])\n",
    "    return model\n",
    "\n",
    "def create_model_3():\n",
    "    model = tf.keras.models.Sequential([\n",
    "        tf.keras.layers.Input(shape=[20, 1, 1]),\n",
    "        tf.keras.layers.Conv2D(filters=8, kernel_size=(3, 1), activation='relu'),\n",
    "        tf.keras.layers.AveragePooling2D(pool_size=(2, 1)),\n",
    "        tf.keras.layers.Conv2D(filters=32, kernel_size=(3, 1), activation='relu'),\n",
    "        tf.keras.layers.AveragePooling2D(pool_size=(2, 1)),\n",
    "        tf.keras.layers.Flatten(),\n",
    "        tf.keras.layers.Dense(units=16, activation='relu'),\n",
    "        tf.keras.layers.Dense(units=1, activation='sigmoid')\n",
    "    ])\n",
    "    model.compile(optimizer='adam', loss='binary_crossentropy', metrics=['accuracy'])\n",
    "    return model\n",
    "\n",
    "def create_model_4():\n",
    "    model = tf.keras.models.Sequential([\n",
    "        tf.keras.layers.Input(shape=[20, 1, 1]),\n",
    "        tf.keras.layers.Conv2D(filters=32, kernel_size=(3, 1), activation='relu'),\n",
    "        tf.keras.layers.AveragePooling2D(pool_size=(2, 1)),\n",
    "        tf.keras.layers.Conv2D(filters=64, kernel_size=(3, 1), activation='relu'),\n",
    "        tf.keras.layers.AveragePooling2D(pool_size=(2, 1)),\n",
    "        tf.keras.layers.Flatten(),\n",
    "        tf.keras.layers.Dense(units=128, activation='relu'),\n",
    "        tf.keras.layers.Dense(units=1, activation='sigmoid')\n",
    "    ])\n",
    "    model.compile(optimizer='adam', loss='binary_crossentropy', metrics=['accuracy'])\n",
    "    return model\n",
    "\n",
    "def create_model_5():\n",
    "    model = tf.keras.models.Sequential([\n",
    "        tf.keras.layers.Input(shape=[20, 1, 1]),\n",
    "        tf.keras.layers.Conv2D(filters=16, kernel_size=(3, 1), activation='relu'),\n",
    "        tf.keras.layers.AveragePooling2D(pool_size=(2, 1)),\n",
    "        tf.keras.layers.Conv2D(filters=16, kernel_size=(3, 1), activation='relu'),\n",
    "        tf.keras.layers.AveragePooling2D(pool_size=(2, 1)),\n",
    "        tf.keras.layers.Flatten(),\n",
    "        tf.keras.layers.Dense(units=8, activation='relu'),\n",
    "        tf.keras.layers.Dense(units=1, activation='sigmoid')\n",
    "    ])\n",
    "    model.compile(optimizer='adam', loss='binary_crossentropy', metrics=['accuracy'])\n",
    "    return model\n",
    "\n",
    "\n",
    "# # List of models\n",
    "# models = [create_model_1(), create_model_2(), create_model_3(), create_model_4(), create_model_5()]\n",
    "\n",
    "\n",
    "# # Train each model\n",
    "# for i, model in enumerate(models):\n",
    "#     print(f\"Training model {i+1}\")\n",
    "#     model.fit(x=X_train_reshaped, y=y_train, validation_data=(X_test_reshaped, y_test), epochs=10, callbacks=[early_stopping])\n",
    "#     model.summary()\n",
    "#     model.save(f'models/cnn_model_{i+1}.keras')\n",
    "    \n",
    "model = create_model_4()\n",
    "model.fit(x=X_train_reshaped, y=y_train, validation_data=(X_test_reshaped, y_test), epochs=10, callbacks=[early_stopping])\n",
    "model.summary()\n",
    "model.save('cnn_model_4.keras')"
   ]
  },
  {
   "cell_type": "markdown",
   "metadata": {},
   "source": [
    "# XGBoost Model"
   ]
  },
  {
   "cell_type": "markdown",
   "metadata": {},
   "source": [
    "https://www.analyticsvidhya.com/blog/2016/03/complete-guide-parameter-tuning-xgboost-with-codes-python/"
   ]
  },
  {
   "cell_type": "markdown",
   "metadata": {},
   "source": [
    "# Testing The Models\n"
   ]
  },
  {
   "cell_type": "code",
   "execution_count": 29,
   "metadata": {},
   "outputs": [
    {
     "name": "stdout",
     "output_type": "stream",
     "text": [
      "----------\n",
      ">---------\n",
      ">>--------\n",
      ">>>-------\n",
      ">>>>------\n",
      ">>>>>-----\n",
      ">>>>>>----\n",
      ">>>>>>>---\n",
      ">>>>>>>>--\n",
      ">>>>>>>>>-\n",
      ">>>>>>>>>>\n",
      "----------\n",
      ">---------\n",
      ">>--------\n",
      ">>>-------\n",
      ">>>>------\n",
      ">>>>>-----\n",
      ">>>>>>----\n",
      ">>>>>>>---\n",
      ">>>>>>>>--\n",
      ">>>>>>>>>-\n",
      ">>>>>>>>>>\n"
     ]
    }
   ],
   "source": [
    "data_reg = pd.read_csv('read_Data/regular_traffic.csv', encoding='utf-8', low_memory=False)\n",
    "data_att = pd.read_csv('TLS_TESTFROMPC.csv', encoding='utf-8', low_memory=False)\n",
    "\n",
    "data_reg = data_reg.head(2000)\n",
    "data_att = data_att.head(2000)\n",
    "\n",
    "data_reg = clean_data(data_reg)\n",
    "data_att = clean_data(data_att)\n",
    "\n",
    "data_reg.iloc[0:,0] = le.fit_transform(data_reg.iloc[0:,0])\n",
    "data_reg = sc.fit_transform(data_reg)\n",
    "data_reg = np.asarray(data_reg).astype(np.float32)\n",
    "\n",
    "data_att.iloc[0:,0] = le.fit_transform(data_att.iloc[0:,0])\n",
    "data_att = sc.fit_transform(data_att)\n",
    "data_att = np.asarray(data_att).astype(np.float32)\n",
    "\n",
    "data_reg_reshaped = np.expand_dims(np.expand_dims(data_reg, axis=-1), axis=-1)\n",
    "data_att_reshaped = np.expand_dims(np.expand_dims(data_att, axis=-1), axis=-1)"
   ]
  },
  {
   "cell_type": "code",
   "execution_count": 30,
   "metadata": {},
   "outputs": [
    {
     "name": "stdout",
     "output_type": "stream",
     "text": [
      "62/62 [==============================] - 0s 2ms/step\n"
     ]
    },
    {
     "name": "stderr",
     "output_type": "stream",
     "text": [
      "2024-06-05 12:27:23.632719: I tensorflow/core/grappler/optimizers/custom_graph_optimizer_registry.cc:113] Plugin optimizer for device_type GPU is enabled.\n"
     ]
    },
    {
     "data": {
      "image/png": "[encoded data removed]",
      "text/plain": [
       "<Figure size 1000x600 with 1 Axes>"
      ]
     },
     "metadata": {},
     "output_type": "display_data"
    },
    {
     "name": "stdout",
     "output_type": "stream",
     "text": [
      "63/63 [==============================] - 0s 2ms/step\n"
     ]
    },
    {
     "data": {
      "image/png": "[encoded data removed]",
      "text/plain": [
       "<Figure size 1000x600 with 1 Axes>"
      ]
     },
     "metadata": {},
     "output_type": "display_data"
    },
    {
     "name": "stdout",
     "output_type": "stream",
     "text": [
      "62/62 [==============================] - 0s 2ms/step\n"
     ]
    },
    {
     "name": "stderr",
     "output_type": "stream",
     "text": [
      "2024-06-05 12:27:24.146251: I tensorflow/core/grappler/optimizers/custom_graph_optimizer_registry.cc:113] Plugin optimizer for device_type GPU is enabled.\n"
     ]
    },
    {
     "data": {
      "image/png": "[encoded data removed]",
      "text/plain": [
       "<Figure size 1000x600 with 1 Axes>"
      ]
     },
     "metadata": {},
     "output_type": "display_data"
    },
    {
     "name": "stdout",
     "output_type": "stream",
     "text": [
      "63/63 [==============================] - 0s 2ms/step\n"
     ]
    },
    {
     "data": {
      "image/png": "[encoded data removed]",
      "text/plain": [
       "<Figure size 1000x600 with 1 Axes>"
      ]
     },
     "metadata": {},
     "output_type": "display_data"
    },
    {
     "name": "stdout",
     "output_type": "stream",
     "text": [
      "62/62 [==============================] - 0s 2ms/step\n"
     ]
    },
    {
     "name": "stderr",
     "output_type": "stream",
     "text": [
      "2024-06-05 12:27:24.644785: I tensorflow/core/grappler/optimizers/custom_graph_optimizer_registry.cc:113] Plugin optimizer for device_type GPU is enabled.\n"
     ]
    },
    {
     "data": {
      "image/png": "[encoded data removed]",
      "text/plain": [
       "<Figure size 1000x600 with 1 Axes>"
      ]
     },
     "metadata": {},
     "output_type": "display_data"
    },
    {
     "name": "stdout",
     "output_type": "stream",
     "text": [
      "63/63 [==============================] - 0s 2ms/step\n"
     ]
    },
    {
     "data": {
      "image/png": "[encoded data removed]",
      "text/plain": [
       "<Figure size 1000x600 with 1 Axes>"
      ]
     },
     "metadata": {},
     "output_type": "display_data"
    },
    {
     "name": "stdout",
     "output_type": "stream",
     "text": [
      "30/62 [=============>................] - ETA: 0s"
     ]
    },
    {
     "name": "stderr",
     "output_type": "stream",
     "text": [
      "2024-06-05 12:27:25.162652: I tensorflow/core/grappler/optimizers/custom_graph_optimizer_registry.cc:113] Plugin optimizer for device_type GPU is enabled.\n"
     ]
    },
    {
     "name": "stdout",
     "output_type": "stream",
     "text": [
      "62/62 [==============================] - 0s 7ms/step\n"
     ]
    },
    {
     "data": {
      "image/png": "[encoded data removed]",
      "text/plain": [
       "<Figure size 1000x600 with 1 Axes>"
      ]
     },
     "metadata": {},
     "output_type": "display_data"
    },
    {
     "name": "stdout",
     "output_type": "stream",
     "text": [
      "63/63 [==============================] - 0s 3ms/step\n"
     ]
    },
    {
     "data": {
      "image/png": "[encoded data removed]",
      "text/plain": [
       "<Figure size 1000x600 with 1 Axes>"
      ]
     },
     "metadata": {},
     "output_type": "display_data"
    },
    {
     "name": "stdout",
     "output_type": "stream",
     "text": [
      "62/62 [==============================] - 0s 2ms/step\n"
     ]
    },
    {
     "name": "stderr",
     "output_type": "stream",
     "text": [
      "2024-06-05 12:27:25.967254: I tensorflow/core/grappler/optimizers/custom_graph_optimizer_registry.cc:113] Plugin optimizer for device_type GPU is enabled.\n"
     ]
    },
    {
     "data": {
      "image/png": "[encoded data removed]",
      "text/plain": [
       "<Figure size 1000x600 with 1 Axes>"
      ]
     },
     "metadata": {},
     "output_type": "display_data"
    },
    {
     "name": "stdout",
     "output_type": "stream",
     "text": [
      "63/63 [==============================] - 0s 3ms/step\n"
     ]
    },
    {
     "data": {
      "image/png": "[encoded data removed]",
      "text/plain": [
       "<Figure size 1000x600 with 1 Axes>"
      ]
     },
     "metadata": {},
     "output_type": "display_data"
    }
   ],
   "source": [
    "# Load the new models\n",
    "models = [tf.keras.models.load_model(f'models/cnn_model_{i+1}.keras') for i in range(5)]\n",
    "\n",
    "# Function to plot histograms\n",
    "def plot_histogram(predicted_labels, title):\n",
    "    plt.figure(figsize=(10, 6))\n",
    "    plt.hist(predicted_labels, bins=2, edgecolor='black')\n",
    "    plt.xlabel('Predicted Label')\n",
    "    plt.ylabel('Frequency')\n",
    "    plt.title(title)\n",
    "    plt.xticks([0, 1])\n",
    "    plt.show()\n",
    "\n",
    "# Function to make predictions and plot histograms\n",
    "def evaluate_and_plot(model, data, title):\n",
    "    predictions = model.predict(data)\n",
    "    predicted_labels = (predictions > 0.5).astype(int)\n",
    "    plot_histogram(predicted_labels, title)\n",
    "\n",
    "# Iterate over each model and each dataset to generate plots\n",
    "for i, model in enumerate(models):\n",
    "    evaluate_and_plot(model, data_reg_reshaped, f'Model {i+1} with data_reg')\n",
    "    evaluate_and_plot(model, data_att_reshaped, f'Model {i+1} with data_att')\n"
   ]
  },
  {
   "cell_type": "code",
   "execution_count": 26,
   "metadata": {},
   "outputs": [
    {
     "name": "stdout",
     "output_type": "stream",
     "text": [
      "119/802 [===>..........................] - ETA: 0s"
     ]
    },
    {
     "name": "stderr",
     "output_type": "stream",
     "text": [
      "2024-06-05 12:11:35.417241: I tensorflow/core/grappler/optimizers/custom_graph_optimizer_registry.cc:113] Plugin optimizer for device_type GPU is enabled.\n"
     ]
    },
    {
     "name": "stdout",
     "output_type": "stream",
     "text": [
      "802/802 [==============================] - 1s 1ms/step\n",
      "Evaluation for Model 1:\n",
      "              precision    recall  f1-score   support\n",
      "\n",
      "         0.0       1.00      1.00      1.00      9908\n",
      "         1.0       1.00      1.00      1.00     15756\n",
      "\n",
      "    accuracy                           1.00     25664\n",
      "   macro avg       1.00      1.00      1.00     25664\n",
      "weighted avg       1.00      1.00      1.00     25664\n",
      "\n",
      "117/802 [===>..........................] - ETA: 0s"
     ]
    },
    {
     "name": "stderr",
     "output_type": "stream",
     "text": [
      "2024-06-05 12:11:36.605802: I tensorflow/core/grappler/optimizers/custom_graph_optimizer_registry.cc:113] Plugin optimizer for device_type GPU is enabled.\n"
     ]
    },
    {
     "name": "stdout",
     "output_type": "stream",
     "text": [
      "802/802 [==============================] - 1s 1ms/step\n",
      "Evaluation for Model 2:\n",
      "              precision    recall  f1-score   support\n",
      "\n",
      "         0.0       1.00      1.00      1.00      9908\n",
      "         1.0       1.00      1.00      1.00     15756\n",
      "\n",
      "    accuracy                           1.00     25664\n",
      "   macro avg       1.00      1.00      1.00     25664\n",
      "weighted avg       1.00      1.00      1.00     25664\n",
      "\n",
      "117/802 [===>..........................] - ETA: 0s"
     ]
    },
    {
     "name": "stderr",
     "output_type": "stream",
     "text": [
      "2024-06-05 12:11:37.761438: I tensorflow/core/grappler/optimizers/custom_graph_optimizer_registry.cc:113] Plugin optimizer for device_type GPU is enabled.\n"
     ]
    },
    {
     "name": "stdout",
     "output_type": "stream",
     "text": [
      "802/802 [==============================] - 1s 1ms/step\n",
      "Evaluation for Model 3:\n",
      "              precision    recall  f1-score   support\n",
      "\n",
      "         0.0       1.00      1.00      1.00      9908\n",
      "         1.0       1.00      1.00      1.00     15756\n",
      "\n",
      "    accuracy                           1.00     25664\n",
      "   macro avg       1.00      1.00      1.00     25664\n",
      "weighted avg       1.00      1.00      1.00     25664\n",
      "\n",
      " 97/802 [==>...........................] - ETA: 1s"
     ]
    },
    {
     "name": "stderr",
     "output_type": "stream",
     "text": [
      "2024-06-05 12:11:38.915413: I tensorflow/core/grappler/optimizers/custom_graph_optimizer_registry.cc:113] Plugin optimizer for device_type GPU is enabled.\n"
     ]
    },
    {
     "name": "stdout",
     "output_type": "stream",
     "text": [
      "802/802 [==============================] - 1s 2ms/step\n",
      "Evaluation for Model 4:\n",
      "              precision    recall  f1-score   support\n",
      "\n",
      "         0.0       1.00      1.00      1.00      9908\n",
      "         1.0       1.00      1.00      1.00     15756\n",
      "\n",
      "    accuracy                           1.00     25664\n",
      "   macro avg       1.00      1.00      1.00     25664\n",
      "weighted avg       1.00      1.00      1.00     25664\n",
      "\n",
      "112/802 [===>..........................] - ETA: 0s"
     ]
    },
    {
     "name": "stderr",
     "output_type": "stream",
     "text": [
      "2024-06-05 12:11:40.288874: I tensorflow/core/grappler/optimizers/custom_graph_optimizer_registry.cc:113] Plugin optimizer for device_type GPU is enabled.\n"
     ]
    },
    {
     "name": "stdout",
     "output_type": "stream",
     "text": [
      "802/802 [==============================] - 1s 1ms/step\n",
      "Evaluation for Model 5:\n",
      "              precision    recall  f1-score   support\n",
      "\n",
      "         0.0       1.00      1.00      1.00      9908\n",
      "         1.0       1.00      1.00      1.00     15756\n",
      "\n",
      "    accuracy                           1.00     25664\n",
      "   macro avg       1.00      1.00      1.00     25664\n",
      "weighted avg       1.00      1.00      1.00     25664\n",
      "\n"
     ]
    }
   ],
   "source": [
    "from sklearn.metrics import classification_report\n",
    "\n",
    "models = [tf.keras.models.load_model(f'models/cnn_model_{i+1}.keras') for i in range(5)]\n",
    "\n",
    "# Function to evaluate models using classification report\n",
    "def evaluate_model(model, data, title):\n",
    "    predictions = model.predict(data)\n",
    "    predicted_labels = (predictions > 0.5).astype(int)\n",
    "    print(f\"Evaluation for {title}:\")\n",
    "    print(classification_report(y_test, predicted_labels))\n",
    "\n",
    "# Evaluate each model\n",
    "for i, model in enumerate(models):\n",
    "    evaluate_model(model, X_test_reshaped, f'Model {i+1}')\n"
   ]
  },
  {
   "cell_type": "code",
   "execution_count": 33,
   "metadata": {},
   "outputs": [],
   "source": [
    "%load_ext tensorboard"
   ]
  },
  {
   "cell_type": "code",
   "execution_count": 18,
   "metadata": {},
   "outputs": [
    {
     "name": "stdout",
     "output_type": "stream",
     "text": [
      "Model: \"sequential_1\"\n",
      "_________________________________________________________________\n",
      " Layer (type)                Output Shape              Param #   \n",
      "=================================================================\n",
      " conv2d_2 (Conv2D)           (None, 18, 1, 32)         128       \n",
      "                                                                 \n",
      " average_pooling2d_2 (Averag  (None, 9, 1, 32)         0         \n",
      " ePooling2D)                                                     \n",
      "                                                                 \n",
      " conv2d_3 (Conv2D)           (None, 7, 1, 64)          6208      \n",
      "                                                                 \n",
      " average_pooling2d_3 (Averag  (None, 3, 1, 64)         0         \n",
      " ePooling2D)                                                     \n",
      "                                                                 \n",
      " flatten_1 (Flatten)         (None, 192)               0         \n",
      "                                                                 \n",
      " dense_2 (Dense)             (None, 128)               24704     \n",
      "                                                                 \n",
      " dense_3 (Dense)             (None, 1)                 129       \n",
      "                                                                 \n",
      "=================================================================\n",
      "Total params: 31,169\n",
      "Trainable params: 31,169\n",
      "Non-trainable params: 0\n",
      "_________________________________________________________________\n"
     ]
    }
   ],
   "source": [
    "model = tf.keras.models.load_model('cnn_model_4.keras')\n",
    "model.summary()"
   ]
  }
 ],
 "metadata": {
  "kernelspec": {
   "display_name": "GeekWeek",
   "language": "python",
   "name": "python3"
  },
  "language_info": {
   "codemirror_mode": {
    "name": "ipython",
    "version": 3
   },
   "file_extension": ".py",
   "mimetype": "text/x-python",
   "name": "python",
   "nbconvert_exporter": "python",
   "pygments_lexer": "ipython3",
   "version": "3.1.undefined"
  }
 },
 "nbformat": 4,
 "nbformat_minor": 2
}
